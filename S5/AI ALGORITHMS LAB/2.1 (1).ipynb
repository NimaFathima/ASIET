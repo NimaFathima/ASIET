{
 "cells": [
  {
   "cell_type": "raw",
   "id": "bc197af2-d62a-4f1c-9cc0-0edd553c0ffb",
   "metadata": {},
   "source": [
    "Loops (for, while, nested loops)\n",
    "1. Print the first 10 natural numbers using a while loop.\n",
    "2. Print the multiplication table of a given number using a for loop.\n",
    "3. Use nested loops to print the following pattern:\n",
    "*\n",
    "**\n",
    "***\n",
    "****\n",
    "*****"
   ]
  },
  {
   "cell_type": "code",
   "execution_count": 1,
   "id": "9f126357-aa3d-4d09-85ea-5f13739ac82f",
   "metadata": {},
   "outputs": [
    {
     "name": "stdout",
     "output_type": "stream",
     "text": [
      "1\n",
      "2\n",
      "3\n",
      "4\n",
      "5\n",
      "6\n",
      "7\n",
      "8\n",
      "9\n",
      "10\n"
     ]
    }
   ],
   "source": [
    "i=1\n",
    "while(i<=10):\n",
    "    print(i)\n",
    "    i=i+1"
   ]
  },
  {
   "cell_type": "code",
   "execution_count": 2,
   "id": "4c382ee9-9e16-4cac-92b2-7cf890bfad7e",
   "metadata": {
    "scrolled": true
   },
   "outputs": [
    {
     "name": "stdin",
     "output_type": "stream",
     "text": [
      "Enter the number:  3\n"
     ]
    },
    {
     "name": "stdout",
     "output_type": "stream",
     "text": [
      "1 X 3 = 3\n",
      "2 X 3 = 6\n",
      "3 X 3 = 9\n",
      "4 X 3 = 12\n",
      "5 X 3 = 15\n",
      "6 X 3 = 18\n",
      "7 X 3 = 21\n",
      "8 X 3 = 24\n",
      "9 X 3 = 27\n",
      "10 X 3 = 30\n"
     ]
    }
   ],
   "source": [
    "n=int(input(\"Enter the number: \"))\n",
    "for i in range(1,11):\n",
    "    print(i,\"X\",n,\"=\",i*n)"
   ]
  },
  {
   "cell_type": "code",
   "execution_count": 3,
   "id": "152d1e45-a3f7-404a-bc18-b922ddb2370e",
   "metadata": {},
   "outputs": [
    {
     "name": "stdout",
     "output_type": "stream",
     "text": [
      "*\n",
      "**\n",
      "***\n",
      "****\n",
      "*****\n"
     ]
    }
   ],
   "source": [
    "for i in range(1,6):\n",
    "    for j in range(i):\n",
    "        print(\"*\",end=\"\")\n",
    "    print()"
   ]
  },
  {
   "cell_type": "raw",
   "id": "92f9acf3-59f3-4088-a588-0141fc955897",
   "metadata": {},
   "source": [
    "Data Structures: List, Dictionary, Tuple, Set\n",
    "1. Create a list of 5 fruits and print them using a loop.\n",
    "2. Create a dictionary of 3 students with their marks and print each name with marks.\n",
    "3. Define a tuple with 5 even numbers and print the third item.\n",
    "4. Create a set with duplicate values and print the unique items."
   ]
  },
  {
   "cell_type": "code",
   "execution_count": 4,
   "id": "54b9ab0b-ce70-471d-8fe5-e2b08a0161f0",
   "metadata": {},
   "outputs": [
    {
     "name": "stdout",
     "output_type": "stream",
     "text": [
      "apple\n",
      "banana\n",
      "grapes\n",
      "mango\n",
      "cherry\n"
     ]
    }
   ],
   "source": [
    "l=['apple','banana','grapes','mango','cherry']\n",
    "for i in l:\n",
    "    print(i)"
   ]
  },
  {
   "cell_type": "code",
   "execution_count": 5,
   "id": "d3a5aa68-8bae-4760-854e-f87c6a8aa129",
   "metadata": {},
   "outputs": [
    {
     "name": "stdout",
     "output_type": "stream",
     "text": [
      "Nima 95\n",
      "Pavithra 100\n",
      "Sakhil 97\n"
     ]
    }
   ],
   "source": [
    "d={\"Nima\":95,\"Pavithra\":100,\"Sakhil\":97}\n",
    "for i in d:\n",
    "    print(i,d[i])\n"
   ]
  },
  {
   "cell_type": "code",
   "execution_count": 6,
   "id": "6649fbe2-5ff8-4c3d-9172-4b53dd9fa983",
   "metadata": {},
   "outputs": [
    {
     "name": "stdout",
     "output_type": "stream",
     "text": [
      "6\n"
     ]
    }
   ],
   "source": [
    "t=(2,4,6,8,10)\n",
    "print(t[2])"
   ]
  },
  {
   "cell_type": "code",
   "execution_count": 7,
   "id": "abcd3c86-b862-40be-96a9-c7e97e4e864d",
   "metadata": {},
   "outputs": [
    {
     "name": "stdout",
     "output_type": "stream",
     "text": [
      "{1, 2, 3, 5}\n"
     ]
    }
   ],
   "source": [
    "set={1,2,3,2,5}\n",
    "print(set)"
   ]
  },
  {
   "cell_type": "raw",
   "id": "cba15b95-c809-47b4-b8c7-5413bd214840",
   "metadata": {},
   "source": [
    "Indexing and Slicing\n",
    "Given a string 'PythonProgramming':\n",
    "- Print the first 6 characters\n",
    "- Print the last 6 characters\n",
    "- Print every second character\n",
    "- Reverse the string"
   ]
  },
  {
   "cell_type": "code",
   "execution_count": 8,
   "id": "91dbd9ec-295a-41b7-bfd4-636596fa888b",
   "metadata": {},
   "outputs": [
    {
     "name": "stdout",
     "output_type": "stream",
     "text": [
      "PythonP\n",
      "gnimmargo\n",
      "PtoPormig\n",
      "gnimmargorPnohtyP\n"
     ]
    }
   ],
   "source": [
    "s=\"PythonProgramming\"\n",
    "print(s[:7:])\n",
    "print(s[:7:-1])\n",
    "print(s[::2])\n",
    "print(s[::-1])"
   ]
  },
  {
   "cell_type": "raw",
   "id": "9941b0a8-8a1b-4ec0-a3eb-ef56a66ac354",
   "metadata": {},
   "source": [
    "List Comprehensions\n",
    "1. Generate a list of squares from 1 to 10 using list comprehension.\n",
    "2. Create a list of even numbers from 1 to 50 using list comprehension.\n",
    "3. From a list of strings, create a new list containing strings longer than 5 characters."
   ]
  },
  {
   "cell_type": "code",
   "execution_count": 9,
   "id": "8070d904-96c6-4845-ac62-36a9c92a364c",
   "metadata": {},
   "outputs": [
    {
     "name": "stdout",
     "output_type": "stream",
     "text": [
      "[1, 4, 9, 16, 25, 36, 49, 64, 81, 100]\n"
     ]
    }
   ],
   "source": [
    "l=[i**2 for i in range(1,11)]\n",
    "print(l)"
   ]
  },
  {
   "cell_type": "code",
   "execution_count": 10,
   "id": "eed86092-2534-42db-9428-6393c4ec9f32",
   "metadata": {},
   "outputs": [
    {
     "name": "stdout",
     "output_type": "stream",
     "text": [
      "[2, 4, 6, 8, 10, 12, 14, 16, 18, 20, 22, 24, 26, 28, 30, 32, 34, 36, 38, 40, 42, 44, 46, 48, 50]\n"
     ]
    }
   ],
   "source": [
    "l=[i for i in range(2,51,2)]\n",
    "print(l)"
   ]
  },
  {
   "cell_type": "code",
   "execution_count": 11,
   "id": "45acabee-a59a-4c8f-bcec-fbe4b48961b0",
   "metadata": {},
   "outputs": [
    {
     "name": "stdout",
     "output_type": "stream",
     "text": [
      "['school', 'blackboard']\n"
     ]
    }
   ],
   "source": [
    "l1=[\"school\",\"book\",\"pen\",\"blackboard\",\"chalk\"]\n",
    "l2=[i for i in l1 if len(i)>5]\n",
    "print(l2)"
   ]
  },
  {
   "cell_type": "raw",
   "id": "cfe9143e-11b2-4d58-9d1c-40a2241ee5fe",
   "metadata": {},
   "source": [
    "Functions and Recursion\n",
    "1. Write a function to check if a number is prime.\n",
    "2. Write a recursive function to compute factorial of a number.\n",
    "3. Write a function that takes a list and returns the sum of its elements."
   ]
  },
  {
   "cell_type": "code",
   "execution_count": 12,
   "id": "3e104141-205b-46dd-98be-db2b638e87d5",
   "metadata": {},
   "outputs": [
    {
     "name": "stdin",
     "output_type": "stream",
     "text": [
      "Enter the number:  7\n"
     ]
    },
    {
     "name": "stdout",
     "output_type": "stream",
     "text": [
      "its a prime\n"
     ]
    }
   ],
   "source": [
    "def prime(n):\n",
    "    flag=0\n",
    "    for i in range(2,(n//2)+1):\n",
    "           if n%i==0:\n",
    "                print(\"not prime\")\n",
    "                flag=1\n",
    "    if flag==0:\n",
    "        print(\"its a prime\")\n",
    "\n",
    "n= int(input(\"Enter the number: \"))\n",
    "prime(n)"
   ]
  },
  {
   "cell_type": "code",
   "execution_count": 13,
   "id": "5617617a-6c1e-4e35-be86-1cd105667949",
   "metadata": {},
   "outputs": [
    {
     "name": "stdin",
     "output_type": "stream",
     "text": [
      "Enter the number:  5\n"
     ]
    },
    {
     "name": "stdout",
     "output_type": "stream",
     "text": [
      "Factorial of 5 = 120\n"
     ]
    }
   ],
   "source": [
    "def factorial(n):\n",
    "    if n<=1:\n",
    "        return 1\n",
    "    else:\n",
    "        return n*factorial(n-1)\n",
    "n= int(input(\"Enter the number: \"))\n",
    "print(f\"Factorial of {n} = {factorial(n)}\")"
   ]
  },
  {
   "cell_type": "code",
   "execution_count": 14,
   "id": "47f77391-8f7d-4cc0-bf89-5ad596b69b53",
   "metadata": {},
   "outputs": [
    {
     "name": "stdin",
     "output_type": "stream",
     "text": [
      "Enter the list:  1,2,3,4\n"
     ]
    },
    {
     "name": "stdout",
     "output_type": "stream",
     "text": [
      "Sum= 10\n"
     ]
    }
   ],
   "source": [
    "def sum(l):\n",
    "    sum=0\n",
    "    for i in l:\n",
    "        sum=sum+i\n",
    "    print(\"Sum=\",sum)\n",
    "\n",
    "l=eval(input(\"Enter the list: \"))\n",
    "sum(l)\n"
   ]
  },
  {
   "cell_type": "raw",
   "id": "96e8ce2d-fa0b-4e52-95ad-fb202a6acdca",
   "metadata": {},
   "source": [
    "Object-Oriented Programming: class, object, constructor, getters/setters\n",
    "1. Define a class 'Student' with attributes name and grade.\n",
    "2. Write a constructor to initialize the attributes.\n",
    "3. Create getter and setter methods for name and grade.\n",
    "4. Create two student objects and print their details using the getters."
   ]
  },
  {
   "cell_type": "code",
   "execution_count": 15,
   "id": "7aae19df-ea2b-4eee-adb4-67abf85fce0b",
   "metadata": {},
   "outputs": [
    {
     "name": "stdout",
     "output_type": "stream",
     "text": [
      "A 1\n"
     ]
    }
   ],
   "source": [
    "class Student:\n",
    "    def __init__(self,name,grade):\n",
    "        self.name= name\n",
    "        self.grade= grade\n",
    "    def get_name(self):\n",
    "        return self.name\n",
    "    def get_grade(self):\n",
    "        return self.grade\n",
    "\n",
    "    def set_name(self,name):\n",
    "        self.name=name\n",
    "    \n",
    "    def set_grade(self,grade):\n",
    "        self.grade=grade\n",
    "\n",
    "s1=Student('A',1)\n",
    "s2=Student('B',2)\n",
    "\n",
    "print(s1.name,s1.grade)\n",
    "    "
   ]
  },
  {
   "cell_type": "code",
   "execution_count": 16,
   "id": "87e4eac9-aa9b-49d1-af3a-38e8c1e637f5",
   "metadata": {
    "jp-MarkdownHeadingCollapsed": true
   },
   "outputs": [
    {
     "name": "stdout",
     "output_type": "stream",
     "text": [
      "6\n"
     ]
    }
   ],
   "source": [
    "s3=Student('C',3)\n",
    "s3.set_grade(6)\n",
    "print(s3.get_grade())"
   ]
  }
 ],
 "metadata": {
  "kernelspec": {
   "display_name": "Python 3 (ipykernel)",
   "language": "python",
   "name": "python3"
  },
  "language_info": {
   "codemirror_mode": {
    "name": "ipython",
    "version": 3
   },
   "file_extension": ".py",
   "mimetype": "text/x-python",
   "name": "python",
   "nbconvert_exporter": "python",
   "pygments_lexer": "ipython3",
   "version": "3.13.5"
  }
 },
 "nbformat": 4,
 "nbformat_minor": 5
}
