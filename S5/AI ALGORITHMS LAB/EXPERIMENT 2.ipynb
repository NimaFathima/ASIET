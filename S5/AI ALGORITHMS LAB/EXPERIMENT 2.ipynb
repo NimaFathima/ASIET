{
 "cells": [
  {
   "cell_type": "code",
   "execution_count": 3,
   "id": "b51461d8-34b7-45c0-84be-bca5f66dc964",
   "metadata": {},
   "outputs": [
    {
     "name": "stdout",
     "output_type": "stream",
     "text": [
      "1\n",
      "2\n",
      "3\n",
      "4\n",
      "5\n",
      "6\n",
      "7\n",
      "8\n",
      "9\n",
      "10\n"
     ]
    }
   ],
   "source": [
    "i=1\n",
    "while(i<=10):\n",
    "    print(i)\n",
    "    i=i+1"
   ]
  },
  {
   "cell_type": "code",
   "execution_count": 6,
   "id": "4c382ee9-9e16-4cac-92b2-7cf890bfad7e",
   "metadata": {},
   "outputs": [
    {
     "name": "stdin",
     "output_type": "stream",
     "text": [
      "Enter the number:  3\n"
     ]
    },
    {
     "name": "stdout",
     "output_type": "stream",
     "text": [
      "1 X 3 = 3\n",
      "2 X 3 = 6\n",
      "3 X 3 = 9\n",
      "4 X 3 = 12\n",
      "5 X 3 = 15\n",
      "6 X 3 = 18\n",
      "7 X 3 = 21\n",
      "8 X 3 = 24\n",
      "9 X 3 = 27\n",
      "10 X 3 = 30\n"
     ]
    }
   ],
   "source": [
    "n=int(input(\"Enter the number: \"))\n",
    "for i in range(1,11):\n",
    "    print(i,\"X\",n,\"=\",i*n)"
   ]
  },
  {
   "cell_type": "code",
   "execution_count": 12,
   "id": "152d1e45-a3f7-404a-bc18-b922ddb2370e",
   "metadata": {},
   "outputs": [
    {
     "name": "stdout",
     "output_type": "stream",
     "text": [
      "*\n",
      "**\n",
      "***\n",
      "****\n",
      "*****\n"
     ]
    }
   ],
   "source": [
    "for i in range(1,6):\n",
    "    for j in range(i):\n",
    "        print(\"*\",end=\"\")\n",
    "    print()"
   ]
  },
  {
   "cell_type": "code",
   "execution_count": 13,
   "id": "54b9ab0b-ce70-471d-8fe5-e2b08a0161f0",
   "metadata": {},
   "outputs": [
    {
     "name": "stdout",
     "output_type": "stream",
     "text": [
      "apple\n",
      "banana\n",
      "grapes\n",
      "mango\n",
      "cherry\n"
     ]
    }
   ],
   "source": [
    "l=['apple','banana','grapes','mango','cherry']\n",
    "for i in l:\n",
    "    print(i)"
   ]
  },
  {
   "cell_type": "code",
   "execution_count": 16,
   "id": "d3a5aa68-8bae-4760-854e-f87c6a8aa129",
   "metadata": {},
   "outputs": [
    {
     "name": "stdout",
     "output_type": "stream",
     "text": [
      "Nima 95\n",
      "Pavithra 100\n",
      "Sakhil 97\n"
     ]
    }
   ],
   "source": [
    "d={\"Nima\":95,\"Pavithra\":100,\"Sakhil\":97}\n",
    "for i in d:\n",
    "    print(i,d[i])\n"
   ]
  },
  {
   "cell_type": "code",
   "execution_count": 18,
   "id": "6649fbe2-5ff8-4c3d-9172-4b53dd9fa983",
   "metadata": {},
   "outputs": [
    {
     "name": "stdout",
     "output_type": "stream",
     "text": [
      "6\n"
     ]
    }
   ],
   "source": [
    "t=(2,4,6,8,10)\n",
    "print(t[2])"
   ]
  },
  {
   "cell_type": "code",
   "execution_count": 19,
   "id": "abcd3c86-b862-40be-96a9-c7e97e4e864d",
   "metadata": {},
   "outputs": [
    {
     "name": "stdout",
     "output_type": "stream",
     "text": [
      "{1, 2, 3, 5}\n"
     ]
    }
   ],
   "source": [
    "set={1,2,3,2,5}\n",
    "print(set)"
   ]
  },
  {
   "cell_type": "code",
   "execution_count": 25,
   "id": "91dbd9ec-295a-41b7-bfd4-636596fa888b",
   "metadata": {},
   "outputs": [
    {
     "name": "stdout",
     "output_type": "stream",
     "text": [
      "PythonP\n",
      "gnimmargo\n",
      "PtoPormig\n",
      "gnimmargorPnohtyP\n"
     ]
    }
   ],
   "source": [
    "s=\"PythonProgramming\"\n",
    "print(s[:7:])\n",
    "print(s[:7:-1])\n",
    "print(s[::2])\n",
    "print(s[::-1])"
   ]
  },
  {
   "cell_type": "code",
   "execution_count": 26,
   "id": "8070d904-96c6-4845-ac62-36a9c92a364c",
   "metadata": {},
   "outputs": [
    {
     "name": "stdout",
     "output_type": "stream",
     "text": [
      "[1, 4, 9, 16, 25, 36, 49, 64, 81, 100]\n"
     ]
    }
   ],
   "source": [
    "l=[i**2 for i in range(1,11)]\n",
    "print(l)"
   ]
  },
  {
   "cell_type": "code",
   "execution_count": 28,
   "id": "eed86092-2534-42db-9428-6393c4ec9f32",
   "metadata": {},
   "outputs": [
    {
     "name": "stdout",
     "output_type": "stream",
     "text": [
      "[2, 4, 6, 8, 10, 12, 14, 16, 18, 20, 22, 24, 26, 28, 30, 32, 34, 36, 38, 40, 42, 44, 46, 48, 50]\n"
     ]
    }
   ],
   "source": [
    "l=[i for i in range(2,51,2)]\n",
    "print(l)"
   ]
  },
  {
   "cell_type": "code",
   "execution_count": 56,
   "id": "45acabee-a59a-4c8f-bcec-fbe4b48961b0",
   "metadata": {},
   "outputs": [
    {
     "name": "stdout",
     "output_type": "stream",
     "text": [
      "['school', 'blackboard']\n"
     ]
    }
   ],
   "source": [
    "l1=[\"school\",\"book\",\"pen\",\"blackboard\",\"chalk\"]\n",
    "l2=[i for i in l1 if len(i)>5]\n",
    "print(l2)"
   ]
  },
  {
   "cell_type": "code",
   "execution_count": 46,
   "id": "3e104141-205b-46dd-98be-db2b638e87d5",
   "metadata": {},
   "outputs": [
    {
     "name": "stdin",
     "output_type": "stream",
     "text": [
      "Enter the number:  7\n"
     ]
    },
    {
     "name": "stdout",
     "output_type": "stream",
     "text": [
      "its a prime\n"
     ]
    }
   ],
   "source": [
    "def prime(n):\n",
    "    flag=0\n",
    "    for i in range(2,n//2):\n",
    "           if n%i==0:\n",
    "                print(\"not prime\")\n",
    "                flag=1\n",
    "    if flag==0:\n",
    "        print(\"its a prime\")\n",
    "\n",
    "n= int(input(\"Enter the number: \"))\n",
    "prime(n)"
   ]
  },
  {
   "cell_type": "code",
   "execution_count": 54,
   "id": "5617617a-6c1e-4e35-be86-1cd105667949",
   "metadata": {},
   "outputs": [
    {
     "name": "stdin",
     "output_type": "stream",
     "text": [
      "Enter the number:  5\n"
     ]
    },
    {
     "name": "stdout",
     "output_type": "stream",
     "text": [
      "Factorial of 5 = 120\n"
     ]
    }
   ],
   "source": [
    "def factorial(n):\n",
    "    if n<=1:\n",
    "        return 1\n",
    "    else:\n",
    "        return n*factorial(n-1)\n",
    "n= int(input(\"Enter the number: \"))\n",
    "print(f\"Factorial of {n} = {factorial(n)}\")"
   ]
  },
  {
   "cell_type": "code",
   "execution_count": 59,
   "id": "47f77391-8f7d-4cc0-bf89-5ad596b69b53",
   "metadata": {},
   "outputs": [
    {
     "name": "stdin",
     "output_type": "stream",
     "text": [
      "Enter the list:  1,2,3,4\n"
     ]
    },
    {
     "name": "stdout",
     "output_type": "stream",
     "text": [
      "Sum= 10\n"
     ]
    }
   ],
   "source": [
    "def sum(l):\n",
    "    sum=0\n",
    "    for i in l:\n",
    "        sum=sum+i\n",
    "    print(\"Sum=\",sum)\n",
    "\n",
    "l=eval(input(\"Enter the list: \"))\n",
    "sum(l)\n"
   ]
  },
  {
   "cell_type": "code",
   "execution_count": 60,
   "id": "7aae19df-ea2b-4eee-adb4-67abf85fce0b",
   "metadata": {},
   "outputs": [
    {
     "name": "stdin",
     "output_type": "stream",
     "text": [
      "ENTER THE NAME:  Nima\n",
      "ENTER THE GRADE:  s2\n"
     ]
    }
   ],
   "source": [
    "class Student:\n",
    "    name=input(\"ENTER THE NAME: \")\n",
    "    grade=input(\"ENTER THE GRADE: \")"
   ]
  },
  {
   "cell_type": "code",
   "execution_count": null,
   "id": "527a2eff-70bd-4f94-8c6d-759cca52a144",
   "metadata": {},
   "outputs": [],
   "source": []
  }
 ],
 "metadata": {
  "kernelspec": {
   "display_name": "Python 3 (ipykernel)",
   "language": "python",
   "name": "python3"
  },
  "language_info": {
   "codemirror_mode": {
    "name": "ipython",
    "version": 3
   },
   "file_extension": ".py",
   "mimetype": "text/x-python",
   "name": "python",
   "nbconvert_exporter": "python",
   "pygments_lexer": "ipython3",
   "version": "3.13.5"
  }
 },
 "nbformat": 4,
 "nbformat_minor": 5
}
